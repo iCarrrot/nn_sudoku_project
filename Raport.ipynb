{
 "cells": [
  {
   "cell_type": "markdown",
   "source": [
    "# End of term project for Deep Learning course, SS 2020 @ University of Wrocław\n",
    "Authors:\n",
    "* Piotr Gdowski\n",
    "* Michał Martusewicz\n",
    "\n",
    "\n",
    "# Main goal\n",
    "Extend the handwritten digit-recognizing network to allow verifying sudoku's solution correctness\n",
    "\n",
    "**Before start: runtime -> change runtime type -> GPU**"
   ],
   "metadata": {
    "collapsed": false
   }
  },
  {
   "cell_type": "code",
   "execution_count": null,
   "outputs": [],
   "source": [
    "%pylab inline\n",
    "%matplotlib inline\n",
    "%load_ext autoreload\n",
    "%autoreload 2\n",
    "\n",
    "from collections import namedtuple\n",
    "\n",
    "import matplotlib.pyplot as plt\n",
    "import numpy as np\n",
    "import torch\n",
    "import torchvision\n",
    "from sklearn.decomposition import PCA\n",
    "from sklearn.neighbors import KNeighborsClassifier\n",
    "from tqdm.notebook import tqdm\n",
    "\n",
    "\n",
    "try:\n",
    "    from src.net import get_test_and_train_dataloader, Net, train, test, FinalNet, get_dataloader\n",
    "    from src.preprocessing import deskew_verify, Deskewing, split_into_cells\n",
    "    from src.sudoku_app import get_predictions, check\n",
    "    from src.util import get_gray_images, get_pics_path, present_dataset, get_pure_data\n",
    "    \n",
    "except ModuleNotFoundError:\n",
    "    import httpimport\n",
    "    with httpimport.github_repo(\n",
    "            'iCarrrot', \n",
    "            'nn_sudoku_project',\n",
    "            module='src',\n",
    "            branch='master'\n",
    "    ):\n",
    "        from src.net import get_test_and_train_dataloader, Net, train, test, FinalNet, get_dataloader\n",
    "        from src.preprocessing import deskew_verify, Deskewing, split_into_cells\n",
    "        from src.sudoku_app import get_predictions, check\n",
    "        from src.util import get_gray_images, get_pics_path, present_dataset, get_pure_data\n",
    "\n",
    "\n",
    "GridInstance = namedtuple('GridInstace', 'img digits')"
   ],
   "metadata": {
    "collapsed": false,
    "pycharm": {
     "name": "#%%\n"
    }
   }
  },
  {
   "cell_type": "markdown",
   "source": [
    "# Dataset\n",
    "\n",
    "We've collected and labeled a dataset consisting of 101 sudoku grids, which we splitted into three parts after preprocessing:\n",
    "* 10 grids will be our test dataset on which we'll show how the full checker works\n",
    "* ca. 5000 digits will be put to the model as a training data\n",
    "* the rest will serve as verification dataset"
   ],
   "metadata": {
    "collapsed": false
   }
  },
  {
   "cell_type": "code",
   "execution_count": null,
   "outputs": [],
   "source": [
    "# Load dataset\n",
    "pics_path = get_pics_path()\n",
    "gray_images, labels = get_gray_images(pics_path)\n",
    "gray_images.shape"
   ],
   "metadata": {
    "collapsed": false,
    "pycharm": {
     "name": "#%%\n"
    }
   }
  },
  {
   "cell_type": "code",
   "execution_count": null,
   "outputs": [],
   "source": [
    "deskewed_imgs = []\n",
    "desk_img_labels = []\n",
    "plt.figure(figsize=(20, 20))\n",
    "for i in tqdm(range(len(gray_images))):\n",
    "    deskewed = Deskewing(gray_images[i])._deskew()\n",
    "    plt.subplot(11, 10, i + 1)\n",
    "    if i == 1 or not deskew_verify(deskewed):\n",
    "        plt.imshow(deskewed)\n",
    "    else:\n",
    "        plt.imshow(deskewed, cmap='gray')\n",
    "        deskewed_imgs.append(deskewed)\n",
    "        desk_img_labels.append(labels[i])"
   ],
   "metadata": {
    "collapsed": false,
    "pycharm": {
     "name": "#%%\n"
    }
   }
  },
  {
   "cell_type": "markdown",
   "source": [
    "## Dataset split"
   ],
   "metadata": {
    "collapsed": false
   }
  },
  {
   "cell_type": "code",
   "execution_count": null,
   "outputs": [],
   "source": [
    "testset_ids = np.array([9,12,13,22,24,27,32,35,37,50])\n",
    "\n",
    "testset, trainset = [], []\n",
    "for i in range(len(desk_img_labels)):\n",
    "    if i in testset_ids:\n",
    "        testset.append(GridInstance(img=deskewed_imgs[i], digits=np.asarray(desk_img_labels[i])))\n",
    "    else:\n",
    "        trainset.append(GridInstance(img=deskewed_imgs[i], digits=np.asarray(desk_img_labels[i])))\n",
    "\n",
    "print(sorted(testset_ids))\n",
    "\n",
    "digits_labels = np.hstack([g.digits for g in trainset])\n",
    "digits = np.vstack([split_into_cells(g.img) for g in trainset])\n",
    "digits.shape"
   ],
   "metadata": {
    "collapsed": false,
    "pycharm": {
     "name": "#%%\n"
    }
   }
  },
  {
   "cell_type": "markdown",
   "source": [
    "## Dataloaders and parameters"
   ],
   "metadata": {
    "collapsed": false,
    "pycharm": {
     "name": "#%% md\n"
    }
   }
  },
  {
   "cell_type": "code",
   "execution_count": null,
   "outputs": [],
   "source": [
    "batch_size_train = 64\n",
    "batch_size_test = 32\n",
    "\n",
    "random_seed = 1\n",
    "torch.backends.cudnn.enabled = False\n",
    "torch.manual_seed(random_seed)\n",
    "\n",
    "train_loader = torch.utils.data.DataLoader(\n",
    "    torchvision.datasets.MNIST('files/', train=True, download=True,\n",
    "        transform=torchvision.transforms.Compose([\n",
    "        torchvision.transforms.ToTensor(),\n",
    "        torchvision.transforms.Normalize((0.1307,), (0.3081,))\n",
    "    ])), \n",
    "    batch_size=batch_size_train, \n",
    "    shuffle=True)\n",
    "\n",
    "grid_test_loader, grid_train_loader = get_test_and_train_dataloader(\n",
    "    digits, \n",
    "    digits_labels, \n",
    "    batch_size_test = batch_size_test, \n",
    "    device='cuda')"
   ],
   "metadata": {
    "collapsed": false,
    "pycharm": {
     "name": "#%%^\n"
    }
   }
  },
  {
   "cell_type": "markdown",
   "source": [
    "\n",
    "## MNIST Dataset - sample digits and T-SNE decomposition"
   ],
   "metadata": {
    "collapsed": false
   }
  },
  {
   "cell_type": "code",
   "execution_count": null,
   "outputs": [],
   "source": [
    "present_dataset(train_loader)"
   ],
   "metadata": {
    "collapsed": false,
    "pycharm": {
     "name": "#%%\n"
    }
   }
  },
  {
   "cell_type": "markdown",
   "source": [
    "## Digits from sudoku grids - sample digits and T-SNE decomposition"
   ],
   "metadata": {
    "collapsed": false
   }
  },
  {
   "cell_type": "code",
   "execution_count": null,
   "outputs": [],
   "source": [
    "present_dataset(grid_train_loader)"
   ],
   "metadata": {
    "collapsed": false,
    "pycharm": {
     "name": "#%%\n"
    }
   }
  },
  {
   "cell_type": "markdown",
   "source": [
    "### PCA decomposition on sudoku data"
   ],
   "metadata": {
    "collapsed": false,
    "pycharm": {
     "name": "#%% md\n"
    }
   }
  },
  {
   "cell_type": "code",
   "execution_count": null,
   "outputs": [],
   "source": [
    "pca = PCA(n_components=2)\n",
    "X = pca.fit_transform(digits.reshape(-1, 28*28))\n",
    "X.shape\n",
    "plt.figure(figsize=(15,15))\n",
    "plt.scatter(X[:,0], X[:,1], c=digits_labels)\n",
    "plt.colorbar()\n"
   ],
   "metadata": {
    "collapsed": false,
    "pycharm": {
     "name": "#%%\n"
    }
   }
  },
  {
   "cell_type": "markdown",
   "source": [
    "# Classification\n",
    "\n",
    "In this section we'll compare several approaches on classifying sudoku grids' digits."
   ],
   "metadata": {
    "collapsed": false
   }
  },
  {
   "cell_type": "markdown",
   "source": [
    "## KNN"
   ],
   "metadata": {
    "collapsed": false
   }
  },
  {
   "cell_type": "markdown",
   "source": [
    "### 1: train on MNIST, test on sudoku_test"
   ],
   "metadata": {
    "collapsed": false
   }
  },
  {
   "cell_type": "code",
   "execution_count": null,
   "outputs": [],
   "source": [
    "X, y = get_pure_data(train_loader)\n",
    "X_test, y_test = get_pure_data(grid_test_loader)\n",
    "\n",
    "for n_components in [10, 20, 30, 35, 40, 45, 50, 70, 100, 200]:\n",
    "    pca = PCA(n_components=n_components)\n",
    "    pca.fit(X)\n",
    "    \n",
    "    pca_train = pca.transform(X)\n",
    "    pca_test = pca.transform(X_test)\n",
    "    \n",
    "    clf = KNeighborsClassifier()\n",
    "    clf.fit(pca_train, y)\n",
    "\n",
    "    print(f\"{n_components} components: {clf.score(pca_test, y_test)}\")"
   ],
   "metadata": {
    "collapsed": false,
    "pycharm": {
     "name": "#%%\n"
    }
   }
  },
  {
   "cell_type": "markdown",
   "source": [
    "### 2: train on PCA(sudoku_train), test on PCA(sudoku_test)"
   ],
   "metadata": {
    "collapsed": false
   }
  },
  {
   "cell_type": "code",
   "execution_count": null,
   "outputs": [],
   "source": [
    "X, y = get_pure_data(grid_train_loader)\n",
    "X_test, y_test = get_pure_data(grid_test_loader)\n",
    "\n",
    "for n_components in [10, 20, 30, 35, 40, 45, 50, 70, 100, 200]:\n",
    "    pca = PCA(n_components=n_components)\n",
    "    pca.fit(X)\n",
    "    \n",
    "    pca_train = pca.transform(X)\n",
    "    pca_test = pca.transform(X_test)\n",
    "    \n",
    "    clf = KNeighborsClassifier()\n",
    "    clf.fit(pca_train, y)\n",
    "\n",
    "    print(f\"{n_components} components: {clf.score(pca_test, y_test)}\")"
   ],
   "metadata": {
    "collapsed": false,
    "pycharm": {
     "name": "#%%\n"
    }
   }
  },
  {
   "cell_type": "markdown",
   "source": [
    "## NN"
   ],
   "metadata": {
    "collapsed": false
   }
  },
  {
   "cell_type": "markdown",
   "source": [
    "### Simple NN on different datasets"
   ],
   "metadata": {
    "collapsed": false
   }
  },
  {
   "cell_type": "code",
   "execution_count": null,
   "outputs": [],
   "source": [
    "model = Net()\n",
    "model.to('cuda')\n",
    "train(model=model, device='cuda', train_loader=train_loader, title=\"Train on mnist dataset\", optimizer=torch.optim.Adam(model.parameters()))\n",
    "prediction = test(model=model, device='cuda', test_loader=grid_test_loader)"
   ],
   "metadata": {
    "collapsed": false,
    "pycharm": {
     "name": "#%%\n"
    }
   }
  },
  {
   "cell_type": "code",
   "execution_count": null,
   "outputs": [],
   "source": [
    "model = Net()\n",
    "model.to('cuda')\n",
    "train(model=model, device='cuda', train_loader=grid_train_loader, title=\"Train on own dataset\", optimizer=torch.optim.Adam(model.parameters()))\n",
    "prediction = test(model=model, device='cuda', test_loader=grid_test_loader)"
   ],
   "metadata": {
    "collapsed": false,
    "pycharm": {
     "name": "#%%\n"
    }
   }
  },
  {
   "cell_type": "markdown",
   "source": [
    "### Final Net"
   ],
   "metadata": {
    "collapsed": false,
    "pycharm": {
     "name": "#%% md\n"
    }
   }
  },
  {
   "cell_type": "code",
   "execution_count": null,
   "outputs": [],
   "source": [
    "model = FinalNet()\n",
    "model.to('cuda')\n",
    "train(model=model, device='cuda', train_loader=grid_train_loader, epoch=60, title=\"Train on own dataset\", optimizer=torch.optim.Adam(model.parameters()))\n",
    "prediction = test(model=model, device='cuda', test_loader=grid_test_loader)\n",
    "torch.save(model.state_dict(), 'drive/My Drive/dataset/final_net.nn')"
   ],
   "metadata": {
    "collapsed": false,
    "pycharm": {
     "name": "#%%\n"
    }
   }
  },
  {
   "cell_type": "markdown",
   "source": [
    "### Reload final net"
   ],
   "metadata": {
    "collapsed": false
   }
  },
  {
   "cell_type": "code",
   "execution_count": null,
   "outputs": [],
   "source": [
    "restored_model = FinalNet()\n",
    "restored_model.load_state_dict(torch.load('drive/My Drive/dataset/final_net.nn'))\n",
    "restored_model.cuda()\n",
    "prediction = test(model=restored_model, device='cuda', test_loader=grid_test_loader)"
   ],
   "metadata": {
    "collapsed": false,
    "pycharm": {
     "name": "#%%\n"
    }
   }
  },
  {
   "cell_type": "markdown",
   "source": [
    "# Real life application\n",
    "\n",
    "Given a sudoku grid, find errors or say it's fine"
   ],
   "metadata": {
    "collapsed": false,
    "pycharm": {
     "name": "#%% md\n"
    }
   }
  },
  {
   "cell_type": "code",
   "execution_count": null,
   "outputs": [],
   "source": [
    "img, y = testset[4]\n",
    "grid_cells = split_into_cells(img)\n",
    "nonempty_cells = []\n",
    "for idx, cell in enumerate(grid_cells):\n",
    "    nonempty_cells.append(idx)\n",
    "\n",
    "grid_dataloader = get_dataloader(grid_cells[nonempty_cells], y[nonempty_cells])\n",
    "\n",
    "predicted, ppbs = get_predictions(restored_model, 'cuda', grid_dataloader)\n"
   ],
   "metadata": {
    "collapsed": false,
    "pycharm": {
     "name": "#%%\n"
    }
   }
  },
  {
   "cell_type": "code",
   "execution_count": null,
   "outputs": [],
   "source": [
    "for gi in testset:\n",
    "    check(gi, restored_model, 0.95)"
   ],
   "metadata": {
    "collapsed": false,
    "pycharm": {
     "name": "#%%\n"
    }
   }
  },
  {
   "cell_type": "markdown",
   "source": [
    "# What have we learnt\n",
    "* Colab sucks\n",
    "* MNIST didn’t help\n",
    "* Graphic card has limited memory"
   ],
   "metadata": {
    "collapsed": false,
    "pycharm": {
     "name": "#%% md\n"
    }
   }
  },
  {
   "cell_type": "markdown",
   "source": [
    "# Further work\n",
    "\n",
    "* Collect more labeled data -> different handwriting styles\n",
    "* Improve data preprocessing\n",
    "* Better net architecture\n",
    "* Release as mobile app\n",
    "* Different approach?\n",
    "    * Train neural net with the whole sudoku diagram"
   ],
   "metadata": {
    "collapsed": false,
    "pycharm": {
     "name": "#%% md\n"
    }
   }
  }
 ],
 "metadata": {
  "kernelspec": {
   "display_name": "Python 3",
   "language": "python",
   "name": "python3"
  },
  "language_info": {
   "codemirror_mode": {
    "name": "ipython",
    "version": 2
   },
   "file_extension": ".py",
   "mimetype": "text/x-python",
   "name": "python",
   "nbconvert_exporter": "python",
   "pygments_lexer": "ipython2",
   "version": "2.7.6"
  },
  "pycharm": {
   "stem_cell": {
    "cell_type": "raw",
    "source": [],
    "metadata": {
     "collapsed": false
    }
   }
  }
 },
 "nbformat": 4,
 "nbformat_minor": 0
}